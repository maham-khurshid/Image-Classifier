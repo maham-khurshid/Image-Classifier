{
 "cells": [
  {
   "cell_type": "code",
   "execution_count": 1,
   "id": "54df0d31-8341-4de3-9830-9d4d030472ab",
   "metadata": {
    "tags": []
   },
   "outputs": [],
   "source": [
    "import numpy as np\n",
    "import cv2\n",
    "import os\n",
    "import pathlib\n",
    "import tensorflow as tf\n",
    "from tensorflow import keras\n",
    "from tensorflow.keras import layers\n",
    "from sklearn.model_selection import train_test_split\n",
    "import matplotlib.pyplot as plt"
   ]
  },
  {
   "cell_type": "code",
   "execution_count": 2,
   "id": "415966c2-768e-4208-a54e-e5116aa6e15a",
   "metadata": {
    "tags": []
   },
   "outputs": [],
   "source": [
    "# Define the data directory\n",
    "data_dir = pathlib.Path(\".\\\\dataset\")"
   ]
  },
  {
   "cell_type": "code",
   "execution_count": 3,
   "id": "314a1905-d28c-4b8a-97db-91dcb9c7d62d",
   "metadata": {
    "tags": []
   },
   "outputs": [],
   "source": [
    "# Define the labels and label dictionary\n",
    "labels = ['dwaynejohnson', 'emmawatson', 'johnnydepp', 'ladygaga', 'leonardodicaprio']\n",
    "label_dict = {label: i for i, label in enumerate(labels)}\n"
   ]
  },
  {
   "cell_type": "code",
   "execution_count": 4,
   "id": "73d7d814-622b-466e-9745-f6badfafefab",
   "metadata": {
    "tags": []
   },
   "outputs": [],
   "source": [
    "# Load and preprocess data\n",
    "X, y = [], []\n",
    "\n",
    "for label in labels:\n",
    "    images = list(data_dir.glob(f'{label}/*.jpg'))\n",
    "    for image in images:\n",
    "        img = cv2.imread(str(image))\n",
    "        img = cv2.cvtColor(img, cv2.COLOR_BGR2RGB)  # Convert to RGB\n",
    "        img = cv2.resize(img, (224, 224))  # Resize to a common size\n",
    "        X.append(img)\n",
    "        y.append(label_dict[label])\n",
    "\n",
    "X = np.array(X) / 255.0\n",
    "y = np.array(y)"
   ]
  },
  {
   "cell_type": "code",
   "execution_count": 5,
   "id": "6cb154d9-77e9-4b98-a220-f4abc1833c14",
   "metadata": {
    "tags": []
   },
   "outputs": [],
   "source": [
    "\n",
    "# Split the data into training and testing sets\n",
    "X_train, X_test, y_train, y_test = train_test_split(X, y, test_size=0.2, random_state=42)\n"
   ]
  },
  {
   "cell_type": "code",
   "execution_count": 6,
   "id": "771865fc-de99-4aed-b15d-fb4101fb0eab",
   "metadata": {
    "tags": []
   },
   "outputs": [],
   "source": [
    "# Define a pre-trained model (e.g., MobileNetV2) for transfer learning\n",
    "base_model = keras.applications.MobileNetV2(input_shape=(224, 224, 3), include_top=False, weights='imagenet')\n",
    "base_model.trainable = False  # Freeze the base model layers\n"
   ]
  },
  {
   "cell_type": "code",
   "execution_count": 7,
   "id": "a3991f81-5fa6-40e1-93b9-859e318483cf",
   "metadata": {
    "tags": []
   },
   "outputs": [],
   "source": [
    "# Build the custom classification head\n",
    "model = keras.Sequential([\n",
    "    base_model,\n",
    "    layers.GlobalAveragePooling2D(),\n",
    "    layers.Dense(128, activation='relu'),\n",
    "    layers.Dense(len(labels), activation='softmax')\n",
    "])\n",
    "\n"
   ]
  },
  {
   "cell_type": "code",
   "execution_count": 8,
   "id": "82953ef7-21ca-4c32-9c04-f3109595a79a",
   "metadata": {
    "tags": []
   },
   "outputs": [],
   "source": [
    "# Compile the model\n",
    "model.compile(optimizer='adam',\n",
    "              loss='sparse_categorical_crossentropy',\n",
    "              metrics=['accuracy'])\n",
    "\n"
   ]
  },
  {
   "cell_type": "code",
   "execution_count": 9,
   "id": "ee81e418-12cf-4a26-9fb6-a271413c1398",
   "metadata": {
    "tags": []
   },
   "outputs": [
    {
     "name": "stdout",
     "output_type": "stream",
     "text": [
      "Epoch 1/10\n",
      "8/8 [==============================] - 17s 1s/step - loss: 1.1747 - accuracy: 0.5932 - val_loss: 0.9765 - val_accuracy: 0.6441\n",
      "Epoch 2/10\n",
      "8/8 [==============================] - 8s 1s/step - loss: 0.4478 - accuracy: 0.8559 - val_loss: 0.8725 - val_accuracy: 0.6780\n",
      "Epoch 3/10\n",
      "8/8 [==============================] - 8s 1s/step - loss: 0.2541 - accuracy: 0.9364 - val_loss: 0.5684 - val_accuracy: 0.7797\n",
      "Epoch 4/10\n",
      "8/8 [==============================] - 8s 988ms/step - loss: 0.1483 - accuracy: 0.9576 - val_loss: 0.5228 - val_accuracy: 0.7797\n",
      "Epoch 5/10\n",
      "8/8 [==============================] - 8s 981ms/step - loss: 0.1003 - accuracy: 0.9788 - val_loss: 0.6389 - val_accuracy: 0.8136\n",
      "Epoch 6/10\n",
      "8/8 [==============================] - 8s 988ms/step - loss: 0.0593 - accuracy: 0.9958 - val_loss: 0.4463 - val_accuracy: 0.8136\n",
      "Epoch 7/10\n",
      "8/8 [==============================] - 8s 981ms/step - loss: 0.0406 - accuracy: 0.9958 - val_loss: 0.4311 - val_accuracy: 0.8136\n",
      "Epoch 8/10\n",
      "8/8 [==============================] - 8s 982ms/step - loss: 0.0288 - accuracy: 1.0000 - val_loss: 0.4486 - val_accuracy: 0.7797\n",
      "Epoch 9/10\n",
      "8/8 [==============================] - 8s 972ms/step - loss: 0.0203 - accuracy: 1.0000 - val_loss: 0.4736 - val_accuracy: 0.7966\n",
      "Epoch 10/10\n",
      "8/8 [==============================] - 8s 996ms/step - loss: 0.0157 - accuracy: 1.0000 - val_loss: 0.4726 - val_accuracy: 0.7966\n"
     ]
    },
    {
     "data": {
      "text/plain": [
       "<keras.src.callbacks.History at 0x152d14ccc50>"
      ]
     },
     "execution_count": 9,
     "metadata": {},
     "output_type": "execute_result"
    }
   ],
   "source": [
    "# Train the model\n",
    "model.fit(X_train, y_train, epochs=10, validation_data=(X_test, y_test))\n",
    "\n"
   ]
  },
  {
   "cell_type": "code",
   "execution_count": 10,
   "id": "68718b40-c671-4a80-994e-b8ccc73eb38f",
   "metadata": {
    "tags": []
   },
   "outputs": [
    {
     "name": "stdout",
     "output_type": "stream",
     "text": [
      "2/2 [==============================] - 2s 717ms/step - loss: 0.4726 - accuracy: 0.7966\n",
      "Test accuracy: 0.7966101765632629\n"
     ]
    }
   ],
   "source": [
    "# Evaluate the model\n",
    "test_loss, test_accuracy = model.evaluate(X_test, y_test)\n",
    "print(f\"Test accuracy: {test_accuracy}\")\n",
    "\n"
   ]
  },
  {
   "cell_type": "code",
   "execution_count": 11,
   "id": "57dbe6fc-6e49-4d31-b318-27f18e18b8e8",
   "metadata": {
    "tags": []
   },
   "outputs": [],
   "source": [
    "# Save the trained model\n",
    "model.save('model.keras')"
   ]
  },
  {
   "cell_type": "code",
   "execution_count": null,
   "id": "b973f16b-cd47-4703-ba92-20006a85673d",
   "metadata": {},
   "outputs": [],
   "source": []
  }
 ],
 "metadata": {
  "kernelspec": {
   "display_name": "Python 3 (ipykernel)",
   "language": "python",
   "name": "python3"
  },
  "language_info": {
   "codemirror_mode": {
    "name": "ipython",
    "version": 3
   },
   "file_extension": ".py",
   "mimetype": "text/x-python",
   "name": "python",
   "nbconvert_exporter": "python",
   "pygments_lexer": "ipython3",
   "version": "3.11.5"
  }
 },
 "nbformat": 4,
 "nbformat_minor": 5
}
